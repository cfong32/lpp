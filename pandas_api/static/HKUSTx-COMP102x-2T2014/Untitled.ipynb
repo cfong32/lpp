{
 "cells": [
  {
   "cell_type": "code",
   "execution_count": 3,
   "metadata": {
    "collapsed": false
   },
   "outputs": [],
   "source": [
    "import numpy as np\n",
    "import tensorflow as tf\n",
    "import os\n",
    "\n",
    "\n",
    "# define the model\n",
    "num_steps = 12\n",
    "num_features = 20\n",
    "dim_hidden = []\n",
    "dim_embedding = 8\n",
    "num_layers = 1\n",
    "num_tags = 3\n",
    "state_size = 40\n",
    "\n",
    "X_ph = tf.placeholder(tf.float32, [None, num_steps, num_features])\n",
    "keep_prob_ph = tf.placeholder(tf.float32)\n",
    "    \n",
    "X_in = X_ph\n",
    "dim_X = num_features\n",
    "W_h={}\n",
    "b_h={}"
   ]
  },
  {
   "cell_type": "code",
   "execution_count": null,
   "metadata": {
    "collapsed": true
   },
   "outputs": [],
   "source": []
  }
 ],
 "metadata": {
  "kernelspec": {
   "display_name": "Python 2",
   "language": "python",
   "name": "python2"
  },
  "language_info": {
   "codemirror_mode": {
    "name": "ipython",
    "version": 2
   },
   "file_extension": ".py",
   "mimetype": "text/x-python",
   "name": "python",
   "nbconvert_exporter": "python",
   "pygments_lexer": "ipython2",
   "version": "2.7.10"
  }
 },
 "nbformat": 4,
 "nbformat_minor": 1
}
